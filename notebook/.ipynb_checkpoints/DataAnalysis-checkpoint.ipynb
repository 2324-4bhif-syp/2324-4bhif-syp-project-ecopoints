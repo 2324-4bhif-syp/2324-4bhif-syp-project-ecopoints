{
 "cells": [
  {
   "cell_type": "markdown",
   "metadata": {
    "id": "6nO1zROQQdbu"
   },
   "source": [
    "# EcoPoints Data Analysis"
   ]
  },
  {
   "cell_type": "code",
   "execution_count": null,
   "metadata": {},
   "outputs": [],
   "source": [
    "import json\n",
    "import pandas as pd\n",
    "import pydeck as pdk\n",
    "import plotly.express as px\n",
    "import plotly.graph_objects as go"
   ]
  },
  {
   "cell_type": "code",
   "execution_count": null,
   "metadata": {},
   "outputs": [],
   "source": [
    "with open('data.json') as f:\n",
    "    data = json.load(f)"
   ]
  },
  {
   "cell_type": "markdown",
   "metadata": {},
   "source": [
    "## Data Preperation"
   ]
  },
  {
   "cell_type": "code",
   "execution_count": null,
   "metadata": {},
   "outputs": [],
   "source": [
    "timestamps = []\n",
    "engine_load = []\n",
    "engine_rpm = []\n",
    "coolant_temp = []\n",
    "altitude = []\n",
    "gps_speed = []\n",
    "vehicle_speed = []\n",
    "armin_speed = []\n",
    "latitude = []\n",
    "longitude = []\n",
    "\n",
    "for entry in data:\n",
    "    timestamps.append(pd.to_datetime(entry.get('timestamp'), unit='ms'))\n",
    "    \n",
    "    entry_data = entry.get('data', {})\n",
    "    engine_load.append(float(entry_data.get('Engine Load', '0').replace(',', '.')))\n",
    "    engine_rpm.append(float(entry_data.get('Engine RPM', '0').replace(',', '.')))\n",
    "    coolant_temp.append(float(entry_data.get('Engine Coolant Temperature', '0').replace(',', '.')))\n",
    "    altitude.append(float(entry_data.get('Altitude', '0').replace(',', '.')))\n",
    "    gps_speed.append(float(entry_data.get('Gps-Speed', '0').replace(',', '.')))\n",
    "    vehicle_speed.append(float(entry_data.get('Vehicle Speed', '0').replace(',', '.')))\n",
    "    armin_speed.append(float(entry_data.get('Armin-Speed', '0').replace(',', '.')))\n",
    "    latitude.append(float(entry_data.get('Latitude', '0')))\n",
    "    longitude.append(float(entry_data.get('Longitude', '0')))\n",
    "\n",
    "df = pd.DataFrame({\n",
    "    'timestamp': timestamps,\n",
    "    'Engine Load': engine_load,\n",
    "    'Engine RPM': engine_rpm,\n",
    "    'Coolant Temperature': coolant_temp,\n",
    "    'Altitude': altitude,\n",
    "    'Gps Speed': gps_speed,\n",
    "    'Vehicle Speed': vehicle_speed,\n",
    "    'Armin Speed': armin_speed,\n",
    "    'Latitude': latitude,\n",
    "    'Longitude': longitude\n",
    "})"
   ]
  },
  {
   "cell_type": "code",
   "execution_count": null,
   "metadata": {},
   "outputs": [],
   "source": [
    "df = df[:-1]  "
   ]
  },
  {
   "cell_type": "code",
   "execution_count": null,
   "metadata": {},
   "outputs": [],
   "source": [
    "df"
   ]
  },
  {
   "cell_type": "code",
   "execution_count": null,
   "metadata": {},
   "outputs": [],
   "source": [
    "print(df.head())"
   ]
  },
  {
   "cell_type": "markdown",
   "metadata": {},
   "source": [
    "## Driven Path"
   ]
  },
  {
   "cell_type": "code",
   "execution_count": null,
   "metadata": {},
   "outputs": [],
   "source": [
    "path_data = [\n",
    "    {\"path\": [[row['Longitude'], row['Latitude']] for _, row in df.iterrows()]} \n",
    "]\n",
    "layer = pdk.Layer(\n",
    "    \"PathLayer\",\n",
    "    path_data,\n",
    "    get_path='path',\n",
    "    get_width=1,  \n",
    "    get_color='[0, 128, 255]',  \n",
    "    width_scale=10,\n",
    "    pickable=True,\n",
    ")\n",
    "view_state = pdk.ViewState(\n",
    "    latitude=df['Latitude'].mean() if not df['Latitude'].empty else 0.0, \n",
    "    longitude=df['Longitude'].mean() if not df['Longitude'].empty else 0.0, \n",
    "    zoom=12, \n",
    "    bearing=0,\n",
    "    pitch=0,\n",
    ")\n",
    "\n",
    "deck = pdk.Deck(layers=[layer], initial_view_state=view_state)\n",
    "deck.to_html(\"driven_route_map.html\")"
   ]
  },
  {
   "cell_type": "code",
   "execution_count": null,
   "metadata": {},
   "outputs": [],
   "source": [
    "path_data = df[['Longitude', 'Latitude']].values.tolist()\n",
    "\n",
    "# Define the path layer to connect points with lines\n",
    "path_layer = pdk.Layer(\n",
    "    \"PathLayer\",\n",
    "    data=[path_data],\n",
    "    get_path='path',  # Specifies that the data will be the path\n",
    "    get_color='[255, 0, 0]',  # Red color for the path\n",
    "    width_scale=10,  # Width scaling\n",
    "    width_min_pixels=1,  # Minimum width of the path\n",
    "    get_width=1  # Width of the path\n",
    ")\n",
    "\n",
    "# Define the column layer for elevation\n",
    "column_layer = pdk.Layer(\n",
    "    \"ColumnLayer\",\n",
    "    df,\n",
    "    get_position='[Longitude, Latitude]',\n",
    "    get_elevation='Altitude',  # Use altitude for height\n",
    "    elevation_scale=0.1,  # Scale factor for elevation\n",
    "    radius=5,  # Radius of the column\n",
    "    get_fill_color='[255, 0, 0]',  # Blue color with some transparency\n",
    "    pickable=True,\n",
    ")\n",
    "\n",
    "# Define the view state\n",
    "view_state = pdk.ViewState(\n",
    "    latitude=df['Latitude'].mean(),\n",
    "    longitude=df['Longitude'].mean(),\n",
    "    zoom=12,\n",
    "    bearing=0,\n",
    "    pitch=50,\n",
    ")\n",
    "\n",
    "# Create the deck\n",
    "deck = pdk.Deck(layers=[path_layer, column_layer], initial_view_state=view_state)\n",
    "\n",
    "# Render the map to an HTML file\n",
    "deck.to_html(\"3d_path_map_with_lines_and_elevation.html\", open_browser=True)"
   ]
  },
  {
   "cell_type": "code",
   "execution_count": null,
   "metadata": {},
   "outputs": [],
   "source": [
    "df['Altitude Change'] = df['Altitude'].diff().fillna(0) \n",
    "df['Engine Load Change'] = df['Engine Load'].diff().fillna(0)\n",
    "\n",
    "fig = go.Figure()\n",
    "fig.add_trace(go.Scatter(\n",
    "    x=df['timestamp'],\n",
    "    y=df['Altitude Change'],\n",
    "    mode='lines+markers',\n",
    "    name='Change in Altitude (meters)',\n",
    "    line=dict(color='orange', width=2),\n",
    "    marker=dict(size=5, symbol='circle'),\n",
    "))\n",
    "fig.add_trace(go.Scatter(\n",
    "    x=df['timestamp'],\n",
    "    y=df['Engine Load Change'],\n",
    "    mode='lines+markers',\n",
    "    name='Change in Engine Load (%)',\n",
    "    line=dict(color='blue', width=2),\n",
    "    marker=dict(size=5, symbol='circle'),\n",
    "))\n",
    "fig.update_layout(\n",
    "    title='Changes in Altitude and Engine Load Over Time',\n",
    "    xaxis_title='Timestamp',\n",
    "    yaxis_title='Change in Values',\n",
    "    legend_title='Legend',\n",
    "    xaxis=dict(showgrid=True),\n",
    "    yaxis=dict(showgrid=True),\n",
    "    hovermode='x unified'\n",
    ")\n",
    "fig.show()"
   ]
  },
  {
   "cell_type": "code",
   "execution_count": null,
   "metadata": {},
   "outputs": [],
   "source": [
    "fig = go.Figure()\n",
    "fig.add_trace(go.Scatter(\n",
    "    x=df['timestamp'],\n",
    "    y=df['Engine RPM'],\n",
    "    mode='lines+markers',\n",
    "    name='Engine RPM',\n",
    "    line=dict(color='blue', width=2),\n",
    "    marker=dict(size=5, symbol='circle'),\n",
    "))\n",
    "fig.add_trace(go.Scatter(\n",
    "    x=df['timestamp'],\n",
    "    y=df['Coolant Temperature'],\n",
    "    mode='lines+markers',\n",
    "    name='Coolant Temperature (°C)',\n",
    "    line=dict(color='orange', width=2),\n",
    "    marker=dict(size=5, symbol='circle'),\n",
    "))\n",
    "fig.update_layout(\n",
    "    title='Engine RPM and Coolant Temperature Over Time',\n",
    "    xaxis_title='Timestamp',\n",
    "    yaxis_title='Values',\n",
    "    legend_title='Legend',\n",
    "    xaxis=dict(showgrid=True),\n",
    "    yaxis=dict(showgrid=True),\n",
    "    hovermode='x unified'\n",
    ")\n",
    "fig.show()"
   ]
  },
  {
   "cell_type": "code",
   "execution_count": null,
   "metadata": {},
   "outputs": [],
   "source": [
    "fig = go.Figure()\n",
    "fig.add_trace(go.Scatter(\n",
    "    x=df['timestamp'],\n",
    "    y=df['Engine Load'],\n",
    "    mode='lines+markers',\n",
    "    name='Engine Load (%)',\n",
    "    line=dict(color='blue', width=2),\n",
    "    marker=dict(size=5, symbol='circle'),\n",
    "))\n",
    "fig.add_trace(go.Scatter(\n",
    "    x=df['timestamp'],\n",
    "    y=df['Engine RPM'],\n",
    "    mode='lines+markers',\n",
    "    name='Engine RPM',\n",
    "    line=dict(color='orange', width=2),\n",
    "    marker=dict(size=5, symbol='circle'),\n",
    "))\n",
    "fig.update_layout(\n",
    "    title='Engine RPM and Engine Load Over Time',\n",
    "    xaxis_title='Timestamp',\n",
    "    yaxis_title='Values',\n",
    "    legend_title='Legend',\n",
    "    xaxis=dict(showgrid=True),\n",
    "    yaxis=dict(showgrid=True),\n",
    "    hovermode='x unified'\n",
    ")\n",
    "fig.show()"
   ]
  },
  {
   "cell_type": "code",
   "execution_count": null,
   "metadata": {},
   "outputs": [],
   "source": [
    "df['Engine Load Normalized'] = (df['Engine Load'] - df['Engine Load'].min()) / (df['Engine Load'].max() - df['Engine Load'].min())\n",
    "df['Engine RPM Normalized'] = (df['Engine RPM'] - df['Engine RPM'].min()) / (df['Engine RPM'].max() - df['Engine RPM'].min())\n",
    "\n",
    "fig = go.Figure()\n",
    "fig.add_trace(go.Scatter(\n",
    "    x=df['timestamp'],\n",
    "    y=df['Engine Load Normalized'],\n",
    "    mode='lines+markers',\n",
    "    name='Engine Load (Normalized)',\n",
    "    line=dict(color='blue', width=2),\n",
    "    marker=dict(size=5, symbol='circle'),\n",
    "))\n",
    "fig.add_trace(go.Scatter(\n",
    "    x=df['timestamp'],\n",
    "    y=df['Engine RPM Normalized'],\n",
    "    mode='lines+markers',\n",
    "    name='Engine RPM (Normalized)',\n",
    "    line=dict(color='orange', width=2),\n",
    "    marker=dict(size=5, symbol='circle'),\n",
    "))\n",
    "fig.update_layout(\n",
    "    title='Normalized Engine RPM and Engine Load Over Time',\n",
    "    xaxis_title='Timestamp',\n",
    "    yaxis_title='Normalized Values',\n",
    "    legend_title='Legend',\n",
    "    xaxis=dict(showgrid=True),\n",
    "    yaxis=dict(showgrid=True),\n",
    "    hovermode='x unified'\n",
    ")\n",
    "fig.show()"
   ]
  },
  {
   "cell_type": "code",
   "execution_count": null,
   "metadata": {},
   "outputs": [],
   "source": [
    "speedsFig = go.Figure()\n",
    "speedsFig.add_trace(go.Scatter(x=df['timestamp'], y=df['Gps Speed'], mode='lines', name='GPS Speed', line=dict(color='blue')))\n",
    "speedsFig.add_trace(go.Scatter(x=df['timestamp'], y=df['Armin Speed'], mode='lines', name='Armin Speed', line=dict(color='green')))\n",
    "speedsFig.add_trace(go.Scatter(x=df['timestamp'], y=df['Vehicle Speed'], mode='lines', name='Vehicle Speed', line=dict(color='orange')))\n",
    "speedsFig.update_layout(title='Speed Comparison Over Time', xaxis_title='Time', yaxis_title='Speed (km/h)', xaxis=dict(tickformat='%Y-%m-%d %H:%M:%S'), width=800, height=400)\n",
    "speedsFig.show()"
   ]
  },
  {
   "cell_type": "code",
   "execution_count": null,
   "metadata": {},
   "outputs": [],
   "source": [
    "loadSpeedFig = go.Figure()\n",
    "loadSpeedFig.add_trace(go.Scatter(x=df['timestamp'], y=df['Engine Load'], mode='lines', name='Engine Load', line=dict(color='blue', width=2)))\n",
    "loadSpeedFig.add_trace(go.Scatter(x=df['timestamp'], y=df['Vehicle Speed'], mode='lines', name='Vehicle Speed', line=dict(color='orange', width=2)))\n",
    "loadSpeedFig.update_layout(\n",
    "    title='Engine Load and Vehicle Speed Over Time',\n",
    "    xaxis_title='Timestamp',\n",
    "    yaxis_title='Values',\n",
    "    legend_title='Legend',\n",
    "    xaxis=dict(showgrid=True),\n",
    "    yaxis=dict(showgrid=True),\n",
    "    hovermode='x unified'\n",
    ")\n",
    "loadSpeedFig.show()"
   ]
  },
  {
   "cell_type": "code",
   "execution_count": null,
   "metadata": {},
   "outputs": [],
   "source": [
    "df['Normalized Engine Load'] = (df['Engine Load'] - df['Engine Load'].min()) / (df['Engine Load'].max() - df['Engine Load'].min())\n",
    "df['Normalized Vehicle Speed'] = (df['Vehicle Speed'] - df['Vehicle Speed'].min()) / (df['Vehicle Speed'].max() - df['Vehicle Speed'].min())\n",
    "df['Normalized Engine RPM'] = (df['Engine RPM'] - df['Engine RPM'].min()) / (df['Engine RPM'].max() - df['Engine RPM'].min())\n",
    "\n",
    "fig = go.Figure()\n",
    "fig.add_trace(go.Scatter(x=df['timestamp'], y=df['Normalized Engine Load'], mode='lines', name='Normalized Engine Load', line=dict(color='blue', width=2)))\n",
    "fig.add_trace(go.Scatter(x=df['timestamp'], y=df['Normalized Vehicle Speed'], mode='lines', name='Normalized Vehicle Speed', line=dict(color='orange', width=2)))\n",
    "fig.add_trace(go.Scatter(x=df['timestamp'], y=df['Normalized Engine RPM'], mode='lines', name='Normalized Engine RPM', line=dict(color='green', width=2)))\n",
    "fig.update_layout(\n",
    "    title='Normalized Engine Load, Vehicle Speed, and Engine RPM Over Time',\n",
    "    xaxis_title='Timestamp',\n",
    "    yaxis_title='Normalized Values (0 to 1)',\n",
    "    legend_title='Legend',\n",
    "    xaxis=dict(showgrid=True),\n",
    "    yaxis=dict(showgrid=True),\n",
    "    hovermode='x unified'\n",
    ")\n",
    "fig.show()"
   ]
  },
  {
   "cell_type": "code",
   "execution_count": null,
   "metadata": {},
   "outputs": [],
   "source": []
  }
 ],
 "metadata": {
  "colab": {
   "provenance": []
  },
  "kernelspec": {
   "display_name": "Python 3 (ipykernel)",
   "language": "python",
   "name": "python3"
  },
  "language_info": {
   "codemirror_mode": {
    "name": "ipython",
    "version": 3
   },
   "file_extension": ".py",
   "mimetype": "text/x-python",
   "name": "python",
   "nbconvert_exporter": "python",
   "pygments_lexer": "ipython3",
   "version": "3.11.0"
  }
 },
 "nbformat": 4,
 "nbformat_minor": 4
}
