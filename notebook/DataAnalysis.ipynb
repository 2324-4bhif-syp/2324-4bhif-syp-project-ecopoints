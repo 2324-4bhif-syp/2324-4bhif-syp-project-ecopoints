{
 "cells": [
  {
   "cell_type": "markdown",
   "metadata": {
    "id": "6nO1zROQQdbu"
   },
   "source": [
    "# EcoPoints Data Analysis"
   ]
  },
  {
   "cell_type": "markdown",
   "metadata": {},
   "source": [
    "## Import needed libraries"
   ]
  },
  {
   "cell_type": "code",
   "execution_count": null,
   "metadata": {},
   "outputs": [],
   "source": [
    "import json\n",
    "import pandas as pd\n",
    "import pydeck as pdk\n",
    "import plotly.express as px\n",
    "import plotly.graph_objects as go\n",
    "import plotly.io as pio\n",
    "pio.renderers.default = 'notebook'\n",
    "import plotly.offline as pyo\n",
    "pyo.init_notebook_mode(connected=True)\n",
    "\n",
    "from dash import Dash, dcc, html, Input, Output"
   ]
  },
  {
   "cell_type": "code",
   "execution_count": null,
   "metadata": {},
   "outputs": [],
   "source": [
    "with open('data/data.json') as f:\n",
    "    data = json.load(f)"
   ]
  },
  {
   "cell_type": "markdown",
   "metadata": {
    "jp-MarkdownHeadingCollapsed": true
   },
   "source": [
    "## Data Preperation"
   ]
  },
  {
   "cell_type": "code",
   "execution_count": null,
   "metadata": {},
   "outputs": [],
   "source": [
    "timestamps = []\n",
    "engine_load = []\n",
    "engine_rpm = []\n",
    "coolant_temp = []\n",
    "altitude = []\n",
    "gps_speed = []\n",
    "vehicle_speed = []\n",
    "armin_speed = []\n",
    "latitude = []\n",
    "longitude = []\n",
    "\n",
    "for entry in data:\n",
    "    timestamps.append(pd.to_datetime(entry.get('timestamp'), unit='ms'))\n",
    "    \n",
    "    entry_data = entry.get('data', {})\n",
    "    engine_load.append(float(entry_data.get('Engine Load', '0').replace(',', '.')))\n",
    "    engine_rpm.append(float(entry_data.get('Engine RPM', '0').replace(',', '.')))\n",
    "    coolant_temp.append(float(entry_data.get('Engine Coolant Temperature', '0').replace(',', '.')))\n",
    "    altitude.append(float(entry_data.get('Altitude', '0').replace(',', '.')))\n",
    "    gps_speed.append(float(entry_data.get('Gps-Speed', '0').replace(',', '.')))\n",
    "    vehicle_speed.append(float(entry_data.get('Vehicle Speed', '0').replace(',', '.')))\n",
    "    armin_speed.append(float(entry_data.get('Armin-Speed', '0').replace(',', '.')))\n",
    "    latitude.append(float(entry_data.get('Latitude', '0')))\n",
    "    longitude.append(float(entry_data.get('Longitude', '0')))\n",
    "\n",
    "df = pd.DataFrame({\n",
    "    'timestamp': timestamps,\n",
    "    'Engine Load': engine_load,\n",
    "    'Engine RPM': engine_rpm,\n",
    "    'Coolant Temperature': coolant_temp,\n",
    "    'Altitude': altitude,\n",
    "    'Gps Speed': gps_speed,\n",
    "    'Vehicle Speed': vehicle_speed,\n",
    "    'Armin Speed': armin_speed,\n",
    "    'Latitude': latitude,\n",
    "    'Longitude': longitude\n",
    "})\n",
    "\n",
    "df_normalized = df.copy() \n",
    "columns_to_normalize = ['Engine Load', 'Engine RPM', 'Coolant Temperature', 'Altitude', 'Gps Speed', 'Vehicle Speed', 'Armin Speed']\n",
    "\n",
    "for col in columns_to_normalize:\n",
    "    df_normalized[col] = (df[col] - df[col].min()) / (df[col].max() - df[col].min())\n"
   ]
  },
  {
   "cell_type": "code",
   "execution_count": null,
   "metadata": {},
   "outputs": [],
   "source": [
    "df = df[:-1]  \n",
    "df_normalized = df_normalized[:-1]"
   ]
  },
  {
   "cell_type": "code",
   "execution_count": null,
   "metadata": {},
   "outputs": [],
   "source": [
    "print(df.head())"
   ]
  },
  {
   "cell_type": "code",
   "execution_count": null,
   "metadata": {},
   "outputs": [],
   "source": [
    "print(df_normalized.head())"
   ]
  },
  {
   "cell_type": "markdown",
   "metadata": {},
   "source": [
    "## Driven Path"
   ]
  },
  {
   "cell_type": "code",
   "execution_count": null,
   "metadata": {},
   "outputs": [],
   "source": [
    "path_data = [\n",
    "    {\"path\": [[row['Longitude'], row['Latitude']] for _, row in df.iterrows()]} \n",
    "]\n",
    "layer = pdk.Layer(\n",
    "    \"PathLayer\",\n",
    "    path_data,\n",
    "    get_path='path',\n",
    "    get_width=1,  \n",
    "    get_color='[0, 128, 255]',  \n",
    "    width_scale=10,\n",
    "    pickable=True,\n",
    ")\n",
    "view_state = pdk.ViewState(\n",
    "    latitude=df['Latitude'].mean() if not df['Latitude'].empty else 0.0, \n",
    "    longitude=df['Longitude'].mean() if not df['Longitude'].empty else 0.0, \n",
    "    zoom=12, \n",
    "    bearing=0,\n",
    "    pitch=0,\n",
    ")\n",
    "\n",
    "deck = pdk.Deck(layers=[layer], initial_view_state=view_state)\n",
    "deck.to_html(\"html_files/driven_route_map.html\")"
   ]
  },
  {
   "cell_type": "code",
   "execution_count": null,
   "metadata": {},
   "outputs": [],
   "source": [
    "path_data = df[['Longitude', 'Latitude']].values.tolist()\n",
    "\n",
    "path_layer = pdk.Layer(\n",
    "    \"PathLayer\",\n",
    "    data=[path_data],\n",
    "    get_path='path',  \n",
    "    get_color='[255, 0, 0]',  \n",
    "    width_scale=10,  \n",
    "    width_min_pixels=1,  \n",
    "    get_width=1  \n",
    ")\n",
    "\n",
    "# Define the column layer for elevation\n",
    "column_layer = pdk.Layer(\n",
    "    \"ColumnLayer\",\n",
    "    df,\n",
    "    get_position='[Longitude, Latitude]',\n",
    "    get_elevation='Altitude',\n",
    "    elevation_scale=0.1, \n",
    "    radius=5,\n",
    "    get_fill_color='[255, 0, 0]',\n",
    "    pickable=True,\n",
    ")\n",
    "\n",
    "view_state = pdk.ViewState(\n",
    "    latitude=df['Latitude'].mean(),\n",
    "    longitude=df['Longitude'].mean(),\n",
    "    zoom=12,\n",
    "    bearing=0,\n",
    "    pitch=50,\n",
    ")\n",
    "\n",
    "deck = pdk.Deck(layers=[path_layer, column_layer], initial_view_state=view_state)\n",
    "deck.to_html(\"html_files/3d_path_map_with_lines_and_elevation.html\")"
   ]
  },
  {
   "cell_type": "markdown",
   "metadata": {
    "jp-MarkdownHeadingCollapsed": true
   },
   "source": [
    "## All Car Metrics in one"
   ]
  },
  {
   "cell_type": "markdown",
   "metadata": {},
   "source": [
    "### Original Values"
   ]
  },
  {
   "cell_type": "code",
   "execution_count": null,
   "metadata": {},
   "outputs": [],
   "source": [
    "carMetrOrig = Dash(__name__)\n",
    "\n",
    "carMetrOrig.layout = html.Div([\n",
    "    html.H4('Vehicle Data Over Time'),\n",
    "    dcc.Graph(id=\"graph\", style={'height': '700px'}),\n",
    "    dcc.Checklist(\n",
    "        id=\"checklist\",\n",
    "        options=[\n",
    "            {'label': 'Engine Load', 'value': 'Engine Load'},\n",
    "            {'label': 'Engine RPM', 'value': 'Engine RPM'},\n",
    "            {'label': 'Coolant Temperature', 'value': 'Coolant Temperature'},\n",
    "            {'label': 'Altitude', 'value': 'Altitude'},\n",
    "            {'label': 'Gps Speed', 'value': 'Gps Speed'},\n",
    "            {'label': 'Vehicle Speed', 'value': 'Vehicle Speed'},\n",
    "            {'label': 'Armin Speed', 'value': 'Armin Speed'}\n",
    "        ],\n",
    "        value=['Engine RPM'],\n",
    "        inline=True\n",
    "    ),\n",
    "])\n",
    "\n",
    "@carMetrOrig.callback(\n",
    "    Output(\"graph\", \"figure\"), \n",
    "    Input(\"checklist\", \"value\"))\n",
    "def update_line_chart(selected_metrics):\n",
    "    fig = px.line(df, x='timestamp', y=selected_metrics)\n",
    "    \n",
    "    fig.update_layout(\n",
    "        title=\"Selected Vehicle Metrics Over Time\",\n",
    "        xaxis_title=\"Timestamp\",\n",
    "        yaxis_title=\"Value\",\n",
    "        legend_title=\"Metrics\",\n",
    "        xaxis={\n",
    "            'rangeslider': {'visible': True},\n",
    "            'type': 'date', \n",
    "            'range': [df['timestamp'].min(), df['timestamp'].max()]\n",
    "        }\n",
    "    )\n",
    "    return fig\n",
    "\n",
    "if __name__ == '__main__':\n",
    "    carMetrOrig.run_server(debug=True, port=8050)\n"
   ]
  },
  {
   "cell_type": "markdown",
   "metadata": {},
   "source": [
    "### Normalized Values"
   ]
  },
  {
   "cell_type": "code",
   "execution_count": null,
   "metadata": {},
   "outputs": [],
   "source": [
    "carMetrNorm = Dash(__name__)\n",
    "\n",
    "carMetrNorm.layout = html.Div([\n",
    "    html.H4('Normalized Vehicle Data Over Time'),\n",
    "    dcc.Graph(id=\"graph\", style={'height': '700px'}),\n",
    "    dcc.Checklist(\n",
    "        id=\"checklist\",\n",
    "        options=[\n",
    "            {'label': 'No. Engine Load', 'value': 'Engine Load'},\n",
    "            {'label': 'No. Engine RPM', 'value': 'Engine RPM'},\n",
    "            {'label': 'No. Coolant Temperature', 'value': 'Coolant Temperature'},\n",
    "            {'label': 'No. Altitude', 'value': 'Altitude'},\n",
    "            {'label': 'No. Gps Speed', 'value': 'Gps Speed'},\n",
    "            {'label': 'No. Vehicle Speed', 'value': 'Vehicle Speed'},\n",
    "            {'label': 'No. Armin Speed', 'value': 'Armin Speed'}\n",
    "        ],\n",
    "        value=['Engine RPM'],\n",
    "        inline=True\n",
    "    ),\n",
    "])\n",
    "\n",
    "@carMetrNorm.callback(\n",
    "    Output(\"graph\", \"figure\"), \n",
    "    Input(\"checklist\", \"value\"))\n",
    "def update_line_chart(selected_metrics):\n",
    "    fig = px.line(df_normalized, x='timestamp', y=selected_metrics)\n",
    "    \n",
    "    fig.update_layout(\n",
    "        title=\"Selected Normalized Vehicle Metrics Over Time\",\n",
    "        xaxis_title=\"Timestamp\",\n",
    "        yaxis_title=\"Normalized Value\",\n",
    "        legend_title=\"Metrics\",\n",
    "        xaxis={\n",
    "            'rangeslider': {'visible': True},\n",
    "            'type': 'date', \n",
    "            'range': [df['timestamp'].min(), df['timestamp'].max()] \n",
    "        }\n",
    "    )\n",
    "    return fig\n",
    "\n",
    "if __name__ == '__main__':\n",
    "    carMetrNorm.run_server(debug=True, port=8051)"
   ]
  },
  {
   "cell_type": "markdown",
   "metadata": {},
   "source": [
    "## Altitude and Engine Load (Normalized)"
   ]
  },
  {
   "cell_type": "code",
   "execution_count": null,
   "metadata": {},
   "outputs": [],
   "source": [
    "df['Normalized Altitude'] = (df['Altitude'] - df['Altitude'].min()) / (df['Altitude'].max() - df['Altitude'].min())\n",
    "df['Normalized Engine Load'] = (df['Engine Load'] - df['Engine Load'].min()) / (df['Engine Load'].max() - df['Engine Load'].min())\n",
    "\n",
    "app = Dash(__name__)\n",
    "\n",
    "app.layout = html.Div([\n",
    "    html.H4('Normalized Altitude and Engine Load Over Time'),\n",
    "    dcc.Graph(id=\"graph\", style={'height': '700px'})\n",
    "])\n",
    "\n",
    "@app.callback(\n",
    "    Output(\"graph\", \"figure\"), \n",
    "    Input(\"graph\", \"id\") \n",
    ")\n",
    "def update_line_chart(_):\n",
    "    fig = go.Figure()\n",
    "\n",
    "    fig.add_trace(go.Scatter(\n",
    "        x=df['timestamp'],\n",
    "        y=df['Normalized Altitude'],\n",
    "        mode='lines',\n",
    "        name='Normalized Altitude',\n",
    "        line=dict(color='orange', width=2),\n",
    "        marker=dict(size=5, symbol='circle'),\n",
    "    ))\n",
    "\n",
    "    fig.add_trace(go.Scatter(\n",
    "        x=df['timestamp'],\n",
    "        y=df['Normalized Engine Load'],\n",
    "        mode='lines',\n",
    "        name='Normalized Engine Load',\n",
    "        line=dict(color='blue', width=2),\n",
    "        marker=dict(size=5, symbol='circle'),\n",
    "    ))\n",
    "\n",
    "    fig.update_layout(\n",
    "        title='Normalized Altitude and Engine Load Over Time',\n",
    "        xaxis_title='Timestamp',\n",
    "        yaxis_title='Normalized Values',\n",
    "        legend_title='Legend',\n",
    "        xaxis=dict(\n",
    "            showgrid=True,\n",
    "            rangeslider=dict(visible=True),\n",
    "            type='date',\n",
    "            range=[df['timestamp'].min(), df['timestamp'].max()]\n",
    "        ),\n",
    "        yaxis=dict(showgrid=True),\n",
    "        hovermode='x unified'\n",
    "    )\n",
    "    \n",
    "    return fig\n",
    "\n",
    "if __name__ == '__main__':\n",
    "    app.run_server(debug=True, port=8052)"
   ]
  }
 ],
 "metadata": {
  "colab": {
   "provenance": []
  },
  "kernelspec": {
   "display_name": "Python 3 (ipykernel)",
   "language": "python",
   "name": "python3"
  },
  "language_info": {
   "codemirror_mode": {
    "name": "ipython",
    "version": 3
   },
   "file_extension": ".py",
   "mimetype": "text/x-python",
   "name": "python",
   "nbconvert_exporter": "python",
   "pygments_lexer": "ipython3",
   "version": "3.11.0"
  }
 },
 "nbformat": 4,
 "nbformat_minor": 4
}
